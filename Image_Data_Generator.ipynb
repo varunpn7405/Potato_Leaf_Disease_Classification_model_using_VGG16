{
 "cells": [
  {
   "cell_type": "code",
   "execution_count": 1,
   "id": "beff844b-3e3f-4011-9f59-99e474636831",
   "metadata": {},
   "outputs": [
    {
     "name": "stdout",
     "output_type": "stream",
     "text": [
      "WARNING:tensorflow:From C:\\Users\\VARUN PN\\AppData\\Local\\Programs\\Python\\Python311\\Lib\\site-packages\\keras\\src\\losses.py:2976: The name tf.losses.sparse_softmax_cross_entropy is deprecated. Please use tf.compat.v1.losses.sparse_softmax_cross_entropy instead.\n",
      "\n"
     ]
    }
   ],
   "source": [
    "import tensorflow as tf\n",
    "from tensorflow.keras import layers,models\n",
    "from tensorflow.keras.preprocessing.image import ImageDataGenerator"
   ]
  },
  {
   "cell_type": "code",
   "execution_count": 2,
   "id": "d2009d31-7779-4b1c-baa3-01b10a21caf3",
   "metadata": {},
   "outputs": [
    {
     "name": "stdout",
     "output_type": "stream",
     "text": [
      "Found 1506 images belonging to 3 classes.\n"
     ]
    }
   ],
   "source": [
    "IMAGE_SIZE=256\n",
    "CHANNELS=3\n",
    "\n",
    "train_datagen=ImageDataGenerator(\n",
    "    rescale=1./255,\n",
    "    horizontal_flip=True,\n",
    "    rotation_range=10\n",
    ")\n",
    "\n",
    "train_generator=train_datagen.flow_from_directory(\n",
    "    \"dataset/train\",\n",
    "    target_size=(IMAGE_SIZE,IMAGE_SIZE),\n",
    "    batch_size=32,\n",
    "    # labels would be 0,1,2 ==>Return simple sparse vector\n",
    "    class_mode=\"sparse\"\n",
    ")"
   ]
  },
  {
   "cell_type": "code",
   "execution_count": 17,
   "id": "4f1df2a7-202b-4b06-a0cf-ec719bcf837b",
   "metadata": {},
   "outputs": [
    {
     "name": "stdout",
     "output_type": "stream",
     "text": [
      "['Potato___Early_blight', 'Potato___Late_blight', 'Potato___healthy']\n"
     ]
    }
   ],
   "source": [
    "class_names = list(train_generator.class_indices.keys())\n",
    "print(class_names)\n"
   ]
  },
  {
   "cell_type": "code",
   "execution_count": 3,
   "id": "316d8695-75ff-4455-b711-b6dea3702081",
   "metadata": {},
   "outputs": [
    {
     "name": "stdout",
     "output_type": "stream",
     "text": [
      "(32, 256, 256, 3)\n"
     ]
    }
   ],
   "source": [
    "for image_batch,label_batch in train_generator:\n",
    "    print(image_batch.shape)\n",
    "    break"
   ]
  },
  {
   "cell_type": "code",
   "execution_count": 4,
   "id": "d16d4118-c526-4cae-9b92-f035edf40251",
   "metadata": {},
   "outputs": [
    {
     "name": "stdout",
     "output_type": "stream",
     "text": [
      "Found 215 images belonging to 3 classes.\n"
     ]
    }
   ],
   "source": [
    "validation_datagen=ImageDataGenerator(\n",
    "    rescale=1./255,\n",
    "    horizontal_flip=True,\n",
    "    rotation_range=10\n",
    ")\n",
    "\n",
    "validation_generator=validation_datagen.flow_from_directory(\n",
    "    \"dataset/val\",\n",
    "    target_size=(IMAGE_SIZE,IMAGE_SIZE),\n",
    "    batch_size=32,\n",
    "    # labels would be 0,1,2 ==>Return simple sparse vector\n",
    "    class_mode=\"sparse\"\n",
    ")"
   ]
  },
  {
   "cell_type": "code",
   "execution_count": 5,
   "id": "d24774ca-20aa-4a7f-985b-f7d153173932",
   "metadata": {},
   "outputs": [
    {
     "name": "stdout",
     "output_type": "stream",
     "text": [
      "Found 431 images belonging to 3 classes.\n"
     ]
    }
   ],
   "source": [
    "test_datagen=ImageDataGenerator(\n",
    "    rescale=1./255,\n",
    "    horizontal_flip=True,\n",
    "    rotation_range=10\n",
    ")\n",
    "\n",
    "test_generator=test_datagen.flow_from_directory(\n",
    "    \"dataset/test\",\n",
    "    target_size=(IMAGE_SIZE,IMAGE_SIZE),\n",
    "    batch_size=32,\n",
    "    # labels would be 0,1,2 ==>Return simple sparse vector\n",
    "    class_mode=\"sparse\"\n",
    ")"
   ]
  },
  {
   "cell_type": "code",
   "execution_count": 6,
   "id": "46458e90-ae1e-46ae-8db1-afad1af9fcfa",
   "metadata": {},
   "outputs": [
    {
     "name": "stdout",
     "output_type": "stream",
     "text": [
      "WARNING:tensorflow:From C:\\Users\\VARUN PN\\AppData\\Local\\Programs\\Python\\Python311\\Lib\\site-packages\\keras\\src\\backend.py:1398: The name tf.executing_eagerly_outside_functions is deprecated. Please use tf.compat.v1.executing_eagerly_outside_functions instead.\n",
      "\n",
      "WARNING:tensorflow:From C:\\Users\\VARUN PN\\AppData\\Local\\Programs\\Python\\Python311\\Lib\\site-packages\\keras\\src\\layers\\pooling\\max_pooling2d.py:161: The name tf.nn.max_pool is deprecated. Please use tf.nn.max_pool2d instead.\n",
      "\n"
     ]
    }
   ],
   "source": [
    "input_shape = (IMAGE_SIZE, IMAGE_SIZE, CHANNELS)\n",
    "n_classes = 3\n",
    "\n",
    "model = models.Sequential([\n",
    "    layers.InputLayer(input_shape=input_shape),\n",
    "    layers.Conv2D(32, kernel_size = (3,3), activation='relu'),\n",
    "    layers.MaxPooling2D((2, 2)),\n",
    "    layers.Conv2D(64,  kernel_size = (3,3), activation='relu'),\n",
    "    layers.MaxPooling2D((2, 2)),\n",
    "    layers.Conv2D(64,  kernel_size = (3,3), activation='relu'),\n",
    "    layers.MaxPooling2D((2, 2)),\n",
    "    layers.Conv2D(64, (3, 3), activation='relu'),\n",
    "    layers.MaxPooling2D((2, 2)),\n",
    "    layers.Conv2D(64, (3, 3), activation='relu'),\n",
    "    layers.MaxPooling2D((2, 2)),\n",
    "    layers.Conv2D(64, (3, 3), activation='relu'),\n",
    "    layers.MaxPooling2D((2, 2)),\n",
    "    layers.Flatten(),\n",
    "    layers.Dense(64, activation='relu'),\n",
    "    layers.Dense(n_classes, activation='softmax'),\n",
    "])"
   ]
  },
  {
   "cell_type": "code",
   "execution_count": 7,
   "id": "b015be66-77a6-4d7b-890e-b52995ace327",
   "metadata": {},
   "outputs": [
    {
     "name": "stdout",
     "output_type": "stream",
     "text": [
      "WARNING:tensorflow:From C:\\Users\\VARUN PN\\AppData\\Local\\Programs\\Python\\Python311\\Lib\\site-packages\\keras\\src\\optimizers\\__init__.py:309: The name tf.train.Optimizer is deprecated. Please use tf.compat.v1.train.Optimizer instead.\n",
      "\n"
     ]
    }
   ],
   "source": [
    "model.compile(optimizer=\"adam\",\n",
    "             loss=tf.keras.losses.SparseCategoricalCrossentropy(from_logits=False),\n",
    "              metrics=[\"accuracy\"]\n",
    ")"
   ]
  },
  {
   "cell_type": "code",
   "execution_count": 8,
   "id": "f67eada7-8b53-4a01-88b8-41c1e33e1375",
   "metadata": {},
   "outputs": [
    {
     "data": {
      "text/plain": [
       "47.0625"
      ]
     },
     "execution_count": 8,
     "metadata": {},
     "output_type": "execute_result"
    }
   ],
   "source": [
    "1506/32\n"
   ]
  },
  {
   "cell_type": "code",
   "execution_count": 9,
   "id": "1a08241a-9404-493e-990e-64ff7edebee5",
   "metadata": {},
   "outputs": [
    {
     "data": {
      "text/plain": [
       "6.71875"
      ]
     },
     "execution_count": 9,
     "metadata": {},
     "output_type": "execute_result"
    }
   ],
   "source": [
    "215/32\n"
   ]
  },
  {
   "cell_type": "code",
   "execution_count": 10,
   "id": "f1c7fad1-8f19-4888-9388-c036a176506a",
   "metadata": {},
   "outputs": [
    {
     "name": "stdout",
     "output_type": "stream",
     "text": [
      "Epoch 1/20\n",
      "WARNING:tensorflow:From C:\\Users\\VARUN PN\\AppData\\Local\\Programs\\Python\\Python311\\Lib\\site-packages\\keras\\src\\utils\\tf_utils.py:492: The name tf.ragged.RaggedTensorValue is deprecated. Please use tf.compat.v1.ragged.RaggedTensorValue instead.\n",
      "\n",
      "WARNING:tensorflow:From C:\\Users\\VARUN PN\\AppData\\Local\\Programs\\Python\\Python311\\Lib\\site-packages\\keras\\src\\engine\\base_layer_utils.py:384: The name tf.executing_eagerly_outside_functions is deprecated. Please use tf.compat.v1.executing_eagerly_outside_functions instead.\n",
      "\n",
      "47/47 [==============================] - 85s 2s/step - loss: 0.9196 - accuracy: 0.4464 - val_loss: 0.8823 - val_accuracy: 0.5104\n",
      "Epoch 2/20\n",
      "47/47 [==============================] - 76s 2s/step - loss: 0.8219 - accuracy: 0.5407 - val_loss: 0.8646 - val_accuracy: 0.5625\n",
      "Epoch 3/20\n",
      "47/47 [==============================] - 77s 2s/step - loss: 0.6628 - accuracy: 0.6900 - val_loss: 0.5406 - val_accuracy: 0.7396\n",
      "Epoch 4/20\n",
      "47/47 [==============================] - 76s 2s/step - loss: 0.4177 - accuracy: 0.8223 - val_loss: 0.3789 - val_accuracy: 0.8438\n",
      "Epoch 5/20\n",
      "47/47 [==============================] - 73s 2s/step - loss: 0.3731 - accuracy: 0.8392 - val_loss: 0.4485 - val_accuracy: 0.8385\n",
      "Epoch 6/20\n",
      "47/47 [==============================] - 70s 1s/step - loss: 0.2984 - accuracy: 0.8813 - val_loss: 0.3411 - val_accuracy: 0.8333\n",
      "Epoch 7/20\n",
      "47/47 [==============================] - 71s 2s/step - loss: 0.2649 - accuracy: 0.9016 - val_loss: 0.2677 - val_accuracy: 0.8698\n",
      "Epoch 8/20\n",
      "47/47 [==============================] - 70s 1s/step - loss: 0.2542 - accuracy: 0.8942 - val_loss: 0.2341 - val_accuracy: 0.8854\n",
      "Epoch 9/20\n",
      "47/47 [==============================] - 69s 1s/step - loss: 0.1653 - accuracy: 0.9349 - val_loss: 0.1633 - val_accuracy: 0.9271\n",
      "Epoch 10/20\n",
      "47/47 [==============================] - 71s 1s/step - loss: 0.1606 - accuracy: 0.9335 - val_loss: 0.1627 - val_accuracy: 0.9323\n",
      "Epoch 11/20\n",
      "47/47 [==============================] - 71s 1s/step - loss: 0.1094 - accuracy: 0.9579 - val_loss: 0.1179 - val_accuracy: 0.9531\n",
      "Epoch 12/20\n",
      "47/47 [==============================] - 177s 4s/step - loss: 0.1104 - accuracy: 0.9559 - val_loss: 0.1065 - val_accuracy: 0.9583\n",
      "Epoch 13/20\n",
      "47/47 [==============================] - 81s 2s/step - loss: 0.1011 - accuracy: 0.9600 - val_loss: 0.1468 - val_accuracy: 0.9375\n",
      "Epoch 14/20\n",
      "47/47 [==============================] - 86s 2s/step - loss: 0.1058 - accuracy: 0.9607 - val_loss: 0.1684 - val_accuracy: 0.9167\n",
      "Epoch 15/20\n",
      "47/47 [==============================] - 70s 1s/step - loss: 0.1536 - accuracy: 0.9417 - val_loss: 0.0994 - val_accuracy: 0.9583\n",
      "Epoch 16/20\n",
      "47/47 [==============================] - 71s 1s/step - loss: 0.1268 - accuracy: 0.9573 - val_loss: 0.3660 - val_accuracy: 0.8594\n",
      "Epoch 17/20\n",
      "47/47 [==============================] - 71s 1s/step - loss: 0.1294 - accuracy: 0.9471 - val_loss: 0.1198 - val_accuracy: 0.9635\n",
      "Epoch 18/20\n",
      "47/47 [==============================] - 70s 1s/step - loss: 0.0870 - accuracy: 0.9627 - val_loss: 0.1125 - val_accuracy: 0.9479\n",
      "Epoch 19/20\n",
      "47/47 [==============================] - 70s 1s/step - loss: 0.0835 - accuracy: 0.9654 - val_loss: 0.0795 - val_accuracy: 0.9688\n",
      "Epoch 20/20\n",
      "47/47 [==============================] - 71s 1s/step - loss: 0.0813 - accuracy: 0.9701 - val_loss: 0.1398 - val_accuracy: 0.9427\n"
     ]
    }
   ],
   "source": [
    "history=model.fit(\n",
    "    train_generator,\n",
    "    batch_size=32,\n",
    "    steps_per_epoch=47,\n",
    "    validation_data=validation_generator,\n",
    "    validation_steps=6,\n",
    "    verbose=1,\n",
    "    epochs=20\n",
    ")"
   ]
  },
  {
   "cell_type": "code",
   "execution_count": 11,
   "id": "5586d386-22d3-4c20-aff5-a8b5f679507e",
   "metadata": {},
   "outputs": [
    {
     "name": "stdout",
     "output_type": "stream",
     "text": [
      "14/14 [==============================] - 15s 1s/step - loss: 0.1450 - accuracy: 0.9443\n"
     ]
    }
   ],
   "source": [
    "scores=model.evaluate(test_generator)"
   ]
  },
  {
   "cell_type": "code",
   "execution_count": 12,
   "id": "1d34e582-5af4-4827-8b13-a61826546622",
   "metadata": {},
   "outputs": [
    {
     "data": {
      "text/plain": [
       "[0.1449783593416214, 0.9443155527114868]"
      ]
     },
     "execution_count": 12,
     "metadata": {},
     "output_type": "execute_result"
    }
   ],
   "source": [
    "scores"
   ]
  },
  {
   "cell_type": "code",
   "execution_count": 16,
   "id": "0af964ea-c513-44d1-b08a-e6f660f8d8d3",
   "metadata": {},
   "outputs": [
    {
     "name": "stderr",
     "output_type": "stream",
     "text": [
      "C:\\Users\\VARUN PN\\AppData\\Local\\Programs\\Python\\Python311\\Lib\\site-packages\\keras\\src\\engine\\training.py:3103: UserWarning: You are saving your model as an HDF5 file via `model.save()`. This file format is considered legacy. We recommend using instead the native Keras format, e.g. `model.save('my_model.keras')`.\n",
      "  saving_api.save_model(\n"
     ]
    }
   ],
   "source": [
    "model.save(\"potatoes.h5\")"
   ]
  },
  {
   "cell_type": "code",
   "execution_count": 14,
   "id": "b1470a2c-7deb-48c2-83b7-cbbf29735474",
   "metadata": {},
   "outputs": [
    {
     "data": {
      "text/plain": [
       "{'verbose': 1, 'epochs': 20, 'steps': 47}"
      ]
     },
     "execution_count": 14,
     "metadata": {},
     "output_type": "execute_result"
    }
   ],
   "source": []
  },
  {
   "cell_type": "code",
   "execution_count": 15,
   "id": "2da34dac-f35b-4788-9766-eaded6898f2e",
   "metadata": {},
   "outputs": [
    {
     "ename": "SyntaxError",
     "evalue": "incomplete input (1683355070.py, line 1)",
     "output_type": "error",
     "traceback": [
      "\u001b[1;36m  Cell \u001b[1;32mIn[15], line 1\u001b[1;36m\u001b[0m\n\u001b[1;33m    history.history.keys(\u001b[0m\n\u001b[1;37m                         ^\u001b[0m\n\u001b[1;31mSyntaxError\u001b[0m\u001b[1;31m:\u001b[0m incomplete input\n"
     ]
    }
   ],
   "source": []
  },
  {
   "cell_type": "code",
   "execution_count": null,
   "id": "107fba0f-86a3-4561-a9e5-8179a04f9660",
   "metadata": {},
   "outputs": [],
   "source": []
  }
 ],
 "metadata": {
  "kernelspec": {
   "display_name": "Python 3 (ipykernel)",
   "language": "python",
   "name": "python3"
  },
  "language_info": {
   "codemirror_mode": {
    "name": "ipython",
    "version": 3
   },
   "file_extension": ".py",
   "mimetype": "text/x-python",
   "name": "python",
   "nbconvert_exporter": "python",
   "pygments_lexer": "ipython3",
   "version": "3.11.1"
  }
 },
 "nbformat": 4,
 "nbformat_minor": 5
}
